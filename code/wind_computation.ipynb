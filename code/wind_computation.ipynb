{
 "cells": [
  {
   "cell_type": "markdown",
   "id": "26919520-3ca6-4a10-8cac-d5e58e18c027",
   "metadata": {},
   "source": [
    "### Import Libraries"
   ]
  },
  {
   "cell_type": "code",
   "execution_count": null,
   "id": "f83a71a2-af99-4acd-82f5-00f0b4777cd9",
   "metadata": {},
   "outputs": [],
   "source": [
    "import dask\n",
    "import pandas as pd\n",
    "from matplotlib import pyplot as plt\n",
    "import numpy as np\n",
    "import xarray as xr\n",
    "from tqdm import tqdm\n",
    "from os import listdir\n",
    "from os.path import isfile, join"
   ]
  },
  {
   "cell_type": "markdown",
   "id": "8329148d-2e88-4934-986e-44eed3b69325",
   "metadata": {},
   "source": [
    "### Initialize dask client\n",
    "Dask is imported to handle large datasets efficiently by leveraging parallel computing."
   ]
  },
  {
   "cell_type": "code",
   "execution_count": null,
   "id": "9490eb02-f3a3-496a-ace0-14a5e34ed528",
   "metadata": {},
   "outputs": [],
   "source": [
    "from dask.distributed import Client\n",
    "client = Client(n_workers=64, threads_per_worker=2, memory_limit='128GB')\n",
    "client"
   ]
  },
  {
   "cell_type": "markdown",
   "id": "1793da3b-04a3-49b1-a96a-3590226ef0c9",
   "metadata": {},
   "source": [
    "A Dask client is initialized to manage distributed computation. The client object provides access to the dashboard for monitoring tasks."
   ]
  },
  {
   "cell_type": "markdown",
   "id": "504b0a1f-d046-4364-be56-dd7d8db2531e",
   "metadata": {},
   "source": [
    "### Load the datasets "
   ]
  },
  {
   "cell_type": "code",
   "execution_count": null,
   "id": "a4a82871-c45f-4dec-aa47-86ffa5130829",
   "metadata": {},
   "outputs": [],
   "source": [
    "mds_wind = xr.open_mfdataset('/scratch/vishald/jrf2_monsoonlab/shiv/download_data/Wind_*.nc',combine = 'nested',concat_dim = 'time', parallel=True, chunks={'longitude': 60, 'latitude': 60})"
   ]
  },
  {
   "cell_type": "code",
   "execution_count": null,
   "id": "945f4560-977f-414a-b705-466a4cf80c8a",
   "metadata": {},
   "outputs": [],
   "source": [
    "u = mds_wind['u100']\n",
    "v = mds_wind['v100']\n",
    "speed = (u*u + v*v)**0.5\n",
    "wpd_all = 0.5*1.2*(speed**3) #wpd_all now represents the wind power density(W/m2)\n",
    "wpd_all"
   ]
  },
  {
   "cell_type": "markdown",
   "id": "2fbfe706-327e-4f70-a45b-c489e0f57714",
   "metadata": {},
   "source": [
    "### Computing Wind statistics"
   ]
  },
  {
   "cell_type": "code",
   "execution_count": null,
   "id": "10d68134-77de-4ba1-8f9e-ac65762ada73",
   "metadata": {},
   "outputs": [],
   "source": [
    "wind_mean_all = wpd_all.mean('time').compute()"
   ]
  },
  {
   "cell_type": "code",
   "execution_count": null,
   "id": "375f6c39-81ae-4d02-925b-bcae1a021b6e",
   "metadata": {},
   "outputs": [],
   "source": [
    "wind_mean_all.to_netcdf(f'/scratch/vishald/jrf2_monsoonlab/shiv/datastats/Entire Wind Mean.nc')"
   ]
  },
  {
   "cell_type": "code",
   "execution_count": null,
   "id": "12814e7a-5b8f-463e-96eb-63e14eaa0054",
   "metadata": {},
   "outputs": [],
   "source": [
    "wind_med = wpd_all.median('time').compute() #Compute median"
   ]
  },
  {
   "cell_type": "code",
   "execution_count": null,
   "id": "b69660e4-21ec-4cdd-978a-3c5ec4e17d3f",
   "metadata": {},
   "outputs": [],
   "source": [
    "wind_med.to_netcdf(f'/scratch/vishald/jrf2_monsoonlab/shiv/datastats/Entire Wind Median.nc')"
   ]
  },
  {
   "cell_type": "code",
   "execution_count": null,
   "id": "acb21f67-85de-4eac-9912-2b38d5887f0d",
   "metadata": {},
   "outputs": [],
   "source": [
    "%%time\n",
    "#MemoryManagement\n",
    "import gc\n",
    "client.run(gc.collect)\n",
    " \n",
    "import ctypes\n",
    "def trim_memory() -> int:\n",
    "    libc = ctypes.CDLL(\"libc.so.6\")\n",
    "    return libc.malloc_trim(0)\n",
    "client.run(trim_memory)\n",
    "\n",
    "wind_median = xr.open_dataarray(f'/scratch/vishald/jrf2_monsoonlab/shiv/datastats/Entire Wind Median.nc')\n",
    "print('Median Loaded')\n",
    "#Computation for RCoV\n",
    "wind_rcov = ((abs(wpd_all - wind_median)).median('time',skipna=True).compute())/wind_median\n",
    "wind_rcov.to_netcdf(f'/scratch/vishald/jrf2_monsoonlab/shiv/datastats/Entire Wind RCoV.nc')"
   ]
  },
  {
   "cell_type": "code",
   "execution_count": null,
   "id": "a7ca8707-ff94-4dd4-9a0a-2bfd7b9d2325",
   "metadata": {},
   "outputs": [],
   "source": [
    "%%time\n",
    "import gc\n",
    "client.run(gc.collect)\n",
    " \n",
    "import ctypes\n",
    "def trim_memory() -> int:\n",
    "    libc = ctypes.CDLL(\"libc.so.6\")\n",
    "    return libc.malloc_trim(0)\n",
    "client.run(trim_memory)\n",
    "# -------------------------------\n",
    "# Wind Availability Calculation\n",
    "# -------------------------------\n",
    "wind_th = 240 # Threshold in W/m² (adjust based on solar energy requirements)\n",
    "# Calculate total hours\n",
    "time_hours = wpd_all.count(dim='time').load()\n",
    "# Calculate hours where solar radiation exceeds operational threshold (170 W/m²)\n",
    "wind_avail = wpd_all.where(wpd_all > wind_th).count(dim='time').compute()\n",
    "# Calculate percentage availability during daytime\n",
    "pct_wind_avail = (wind_avail/time_hours)*100\n",
    "pct_wind_avail.to_netcdf(f'/scratch/vishald/jrf2_monsoonlab/shiv/datastats/Entire Wind Availability.nc')\n",
    "print('Done')"
   ]
  },
  {
   "cell_type": "code",
   "execution_count": null,
   "id": "0e0e82d6-fdf2-4307-a967-86e5f6b96ca8",
   "metadata": {},
   "outputs": [],
   "source": [
    "# --- Calculate Interquartile Range (IQR) for wind data ---\n",
    "\n",
    "# Free up memory using garbage collection on all Dask workers\n",
    "import gc\n",
    "client.run(gc.collect)\n",
    "\n",
    "# Run malloc_trim to free unused memory back to the OS\n",
    "import ctypes\n",
    "def trim_memory() -> int:\n",
    "    libc = ctypes.CDLL(\"libc.so.6\")\n",
    "    return libc.malloc_trim(0)\n",
    "client.run(trim_memory)\n",
    "\n",
    "# Calculate 75th percentile (Q3) of wind data over time\n",
    "# 'chunk' is used for efficient Dask computation\n",
    "q75 = wpd_all.chunk({\"time\": -1, \"latitude\": \"auto\", \"longitude\": \"auto\"}).quantile(0.75, 'time')\n",
    "print(\"75Th complete. Calculating 75th\")\n",
    "q75\n",
    "q75 = q75.compute()\n",
    "\n",
    "# Save the computed 75th percentile to disk as a NetCDF file\n",
    "q75.to_netcdf(f'/scratch/vishald/jrf2_monsoonlab/shiv/datastats/Entire Wind QSevenFive.nc')\n",
    "\n",
    "# Clean up memory again before computing the next percentile\n",
    "client.run(gc.collect)\n",
    "client.run(trim_memory)\n",
    "\n",
    "# Calculate 25th percentile (Q1) of solar data over time\n",
    "q25 = wpd_all.chunk({\"time\": -1, \"latitude\": \"auto\", \"longitude\": \"auto\"}).quantile(0.25, 'time')\n",
    "print(\"25Th complete. Calculating 75th\")\n",
    "q25\n",
    "q25 = q25.compute()\n",
    "\n",
    "# Save the computed 25th percentile to disk as a NetCDF file\n",
    "q25.to_netcdf(f'/scratch/vishald/jrf2_monsoonlab/shiv/datastats/Entire Wind QTwoFive.nc')\n",
    "\n",
    "# Reload the saved percentiles from disk\n",
    "q25 = xr.open_dataarray(f'/scratch/vishald/jrf2_monsoonlab/shiv/datastats/Entire Wind QTwoFive.nc')\n",
    "q75 = xr.open_dataarray(f'/scratch/vishald/jrf2_monsoonlab/shiv/datastats/Entire Wind QSevenFive.nc')\n",
    "\n",
    "# Compute Interquartile Range (IQR = Q3 - Q1)\n",
    "iqr = q75 - q25\n",
    "iqr\n",
    "\n",
    "# Save the IQR as a NetCDF file\n",
    "iqr.to_netcdf(f'/scratch/vishald/jrf2_monsoonlab/shiv/datastats/Entire Wind IQR.nc')\n"
   ]
  }
 ],
 "metadata": {
  "kernelspec": {
   "display_name": "Python 3 (ipykernel)",
   "language": "python",
   "name": "python3"
  },
  "language_info": {
   "codemirror_mode": {
    "name": "ipython",
    "version": 3
   },
   "file_extension": ".py",
   "mimetype": "text/x-python",
   "name": "python",
   "nbconvert_exporter": "python",
   "pygments_lexer": "ipython3",
   "version": "3.12.5"
  }
 },
 "nbformat": 4,
 "nbformat_minor": 5
}
